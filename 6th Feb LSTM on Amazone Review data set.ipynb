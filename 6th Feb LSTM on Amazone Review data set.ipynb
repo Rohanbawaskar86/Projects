{
 "cells": [
  {
   "cell_type": "code",
   "execution_count": 1,
   "id": "d5ef8e84",
   "metadata": {},
   "outputs": [],
   "source": [
    "import pandas as pd \n",
    "import numpy as np \n",
    "from keras.layers import Dense , SimpleRNN , GRU , LSTM , Embedding\n",
    "from keras.models import sequential\n",
    "from tensorflow.keras.utils import to_categorical"
   ]
  },
  {
   "cell_type": "code",
   "execution_count": 2,
   "id": "de56d5f8",
   "metadata": {},
   "outputs": [],
   "source": [
    "amazone = pd.read_csv(r\"D:\\Imarticus 2021\\python\\9th jan\\amazonreviews.tsv\" , sep = '\\t')"
   ]
  },
  {
   "cell_type": "code",
   "execution_count": 3,
   "id": "6d24ef2c",
   "metadata": {},
   "outputs": [
    {
     "data": {
      "text/html": [
       "<div>\n",
       "<style scoped>\n",
       "    .dataframe tbody tr th:only-of-type {\n",
       "        vertical-align: middle;\n",
       "    }\n",
       "\n",
       "    .dataframe tbody tr th {\n",
       "        vertical-align: top;\n",
       "    }\n",
       "\n",
       "    .dataframe thead th {\n",
       "        text-align: right;\n",
       "    }\n",
       "</style>\n",
       "<table border=\"1\" class=\"dataframe\">\n",
       "  <thead>\n",
       "    <tr style=\"text-align: right;\">\n",
       "      <th></th>\n",
       "      <th>label</th>\n",
       "      <th>review</th>\n",
       "    </tr>\n",
       "  </thead>\n",
       "  <tbody>\n",
       "    <tr>\n",
       "      <th>0</th>\n",
       "      <td>pos</td>\n",
       "      <td>Stuning even for the non-gamer: This sound tra...</td>\n",
       "    </tr>\n",
       "    <tr>\n",
       "      <th>1</th>\n",
       "      <td>pos</td>\n",
       "      <td>The best soundtrack ever to anything.: I'm rea...</td>\n",
       "    </tr>\n",
       "    <tr>\n",
       "      <th>2</th>\n",
       "      <td>pos</td>\n",
       "      <td>Amazing!: This soundtrack is my favorite music...</td>\n",
       "    </tr>\n",
       "    <tr>\n",
       "      <th>3</th>\n",
       "      <td>pos</td>\n",
       "      <td>Excellent Soundtrack: I truly like this soundt...</td>\n",
       "    </tr>\n",
       "    <tr>\n",
       "      <th>4</th>\n",
       "      <td>pos</td>\n",
       "      <td>Remember, Pull Your Jaw Off The Floor After He...</td>\n",
       "    </tr>\n",
       "  </tbody>\n",
       "</table>\n",
       "</div>"
      ],
      "text/plain": [
       "  label                                             review\n",
       "0   pos  Stuning even for the non-gamer: This sound tra...\n",
       "1   pos  The best soundtrack ever to anything.: I'm rea...\n",
       "2   pos  Amazing!: This soundtrack is my favorite music...\n",
       "3   pos  Excellent Soundtrack: I truly like this soundt...\n",
       "4   pos  Remember, Pull Your Jaw Off The Floor After He..."
      ]
     },
     "execution_count": 3,
     "metadata": {},
     "output_type": "execute_result"
    }
   ],
   "source": [
    "amazone.shape\n",
    "amazone = amazone.iloc[ : , [0,1]]\n",
    "amazone.head()"
   ]
  },
  {
   "cell_type": "code",
   "execution_count": 4,
   "id": "b6745417",
   "metadata": {},
   "outputs": [],
   "source": [
    "#amazone.rename(columns={\"v1\":\"Label\",\"v2\":\"Message\"} , inplace = True)"
   ]
  },
  {
   "cell_type": "code",
   "execution_count": 5,
   "id": "d3c1c4d3",
   "metadata": {},
   "outputs": [
    {
     "data": {
      "text/plain": [
       "neg    5097\n",
       "pos    4903\n",
       "Name: label, dtype: int64"
      ]
     },
     "execution_count": 5,
     "metadata": {},
     "output_type": "execute_result"
    }
   ],
   "source": [
    "amazone.label.value_counts()"
   ]
  },
  {
   "cell_type": "code",
   "execution_count": 6,
   "id": "b6f32780",
   "metadata": {},
   "outputs": [],
   "source": [
    "amazone.replace({\"label\":{\"pos\" :1,\"neg\" :0}} , inplace = True)"
   ]
  },
  {
   "cell_type": "code",
   "execution_count": 7,
   "id": "d041f262",
   "metadata": {},
   "outputs": [],
   "source": [
    "amazone_x = amazone.iloc[: ,1]\n",
    "amazone_y = amazone.iloc[: ,0]"
   ]
  },
  {
   "cell_type": "code",
   "execution_count": 8,
   "id": "8a18fa60",
   "metadata": {},
   "outputs": [],
   "source": [
    "from sklearn.model_selection import train_test_split\n",
    "x_train , x_test , y_train ,y_test = train_test_split(amazone_x , amazone_y , test_size=.2) "
   ]
  },
  {
   "cell_type": "code",
   "execution_count": 9,
   "id": "4f923341",
   "metadata": {},
   "outputs": [
    {
     "data": {
      "text/plain": [
       "(8000,)"
      ]
     },
     "execution_count": 9,
     "metadata": {},
     "output_type": "execute_result"
    }
   ],
   "source": [
    "x_train.shape"
   ]
  },
  {
   "cell_type": "code",
   "execution_count": 10,
   "id": "b35db950",
   "metadata": {},
   "outputs": [
    {
     "data": {
      "text/plain": [
       "(8000,)"
      ]
     },
     "execution_count": 10,
     "metadata": {},
     "output_type": "execute_result"
    }
   ],
   "source": [
    "y_train.shape"
   ]
  },
  {
   "cell_type": "code",
   "execution_count": 11,
   "id": "1540358d",
   "metadata": {},
   "outputs": [
    {
     "data": {
      "text/plain": [
       "(2000,)"
      ]
     },
     "execution_count": 11,
     "metadata": {},
     "output_type": "execute_result"
    }
   ],
   "source": [
    "y_test.shape"
   ]
  },
  {
   "cell_type": "code",
   "execution_count": 12,
   "id": "2f08bd1c",
   "metadata": {},
   "outputs": [
    {
     "data": {
      "text/plain": [
       "9100    1\n",
       "7550    1\n",
       "4842    0\n",
       "582     1\n",
       "9798    1\n",
       "       ..\n",
       "5252    0\n",
       "5008    0\n",
       "4078    1\n",
       "5509    0\n",
       "7126    1\n",
       "Name: label, Length: 8000, dtype: int64"
      ]
     },
     "execution_count": 12,
     "metadata": {},
     "output_type": "execute_result"
    }
   ],
   "source": [
    "y_train"
   ]
  },
  {
   "cell_type": "code",
   "execution_count": 13,
   "id": "1b54bf85",
   "metadata": {},
   "outputs": [],
   "source": [
    "y_train = to_categorical(y_train)\n",
    "y_test = to_categorical(y_test)"
   ]
  },
  {
   "cell_type": "code",
   "execution_count": 14,
   "id": "b9261ba6",
   "metadata": {},
   "outputs": [
    {
     "data": {
      "text/plain": [
       "array([[0., 1.],\n",
       "       [0., 1.],\n",
       "       [1., 0.],\n",
       "       ...,\n",
       "       [0., 1.],\n",
       "       [1., 0.],\n",
       "       [0., 1.]], dtype=float32)"
      ]
     },
     "execution_count": 14,
     "metadata": {},
     "output_type": "execute_result"
    }
   ],
   "source": [
    "y_train"
   ]
  },
  {
   "cell_type": "code",
   "execution_count": 15,
   "id": "be7f4747",
   "metadata": {},
   "outputs": [],
   "source": [
    "max_num_words = 37500 ##how many words d we consider from the entire CORPUS\n",
    "seq_len       = 210          ##How many thens(words to consider in each document/messahges)\n",
    "embedding_size = 120   ##vector length of each word"
   ]
  },
  {
   "cell_type": "code",
   "execution_count": 16,
   "id": "287e1e47",
   "metadata": {},
   "outputs": [],
   "source": [
    "from keras.preprocessing.text     import Tokenizer  #  is used for tokinizeation\n",
    "from keras.preprocessing.sequence import pad_sequences \n",
    "import numpy as np\n",
    "from tensorflow import keras\n",
    "from tensorflow.keras.optimizers import Adam"
   ]
  },
  {
   "cell_type": "code",
   "execution_count": 17,
   "id": "5f0d41e8",
   "metadata": {},
   "outputs": [],
   "source": [
    "tokenizer = Tokenizer(num_words = max_num_words)\n",
    "tokenizer.fit_on_texts(amazone.review)"
   ]
  },
  {
   "cell_type": "code",
   "execution_count": 18,
   "id": "ef5405fe",
   "metadata": {},
   "outputs": [],
   "source": [
    "x_train = tokenizer.texts_to_sequences(x_train) # will convert the text to sequences of IDs\n",
    "x_train = pad_sequences(x_train , maxlen = seq_len)"
   ]
  },
  {
   "cell_type": "code",
   "execution_count": 19,
   "id": "a2712b3b",
   "metadata": {},
   "outputs": [],
   "source": [
    "from keras.models import Sequential"
   ]
  },
  {
   "cell_type": "code",
   "execution_count": 20,
   "id": "13798c4c",
   "metadata": {},
   "outputs": [],
   "source": [
    "x_test  =  tokenizer.texts_to_sequences(x_test)\n",
    "x_test  =  pad_sequences(x_test , maxlen = seq_len)\n",
    "model = Sequential()  # iniitialize the network\n",
    "model.add(Embedding(input_dim = max_num_words,    \n",
    "                   input_length = seq_len,\n",
    "                    output_dim = embedding_size))"
   ]
  },
  {
   "cell_type": "code",
   "execution_count": 21,
   "id": "f31da7ba",
   "metadata": {},
   "outputs": [
    {
     "name": "stderr",
     "output_type": "stream",
     "text": [
      "C:\\Users\\Rohan Bawaskar\\anaconda3\\lib\\site-packages\\keras\\optimizer_v2\\adam.py:105: UserWarning: The `lr` argument is deprecated, use `learning_rate` instead.\n",
      "  super(Adam, self).__init__(name, **kwargs)\n"
     ]
    }
   ],
   "source": [
    "model.add(LSTM(5)) \n",
    "model.add(Dense(2 , activation  = 'softmax'))  # this 2 bcoz u have 2 level in target variable\n",
    "adam = Adam(lr = .001)\n",
    "model.compile(optimizer= 'adam' , loss = 'categorical_crossentropy' , metrics = ['accuracy'])"
   ]
  },
  {
   "cell_type": "code",
   "execution_count": 22,
   "id": "a17f79b7",
   "metadata": {},
   "outputs": [
    {
     "name": "stdout",
     "output_type": "stream",
     "text": [
      "Epoch 1/5\n",
      "200/200 [==============================] - 28s 132ms/step - loss: 0.5980 - accuracy: 0.6675 - val_loss: 0.4650 - val_accuracy: 0.7962\n",
      "Epoch 2/5\n",
      "200/200 [==============================] - 25s 125ms/step - loss: 0.2796 - accuracy: 0.8963 - val_loss: 0.3918 - val_accuracy: 0.8369\n",
      "Epoch 3/5\n",
      "200/200 [==============================] - 28s 138ms/step - loss: 0.1440 - accuracy: 0.9520 - val_loss: 0.4638 - val_accuracy: 0.8150\n",
      "Epoch 4/5\n",
      "200/200 [==============================] - 31s 157ms/step - loss: 0.0693 - accuracy: 0.9809 - val_loss: 0.5144 - val_accuracy: 0.8150\n",
      "Epoch 5/5\n",
      "200/200 [==============================] - 32s 162ms/step - loss: 0.0353 - accuracy: 0.9925 - val_loss: 0.5915 - val_accuracy: 0.8144\n"
     ]
    },
    {
     "data": {
      "text/plain": [
       "<keras.callbacks.History at 0x1f883a79ac0>"
      ]
     },
     "execution_count": 22,
     "metadata": {},
     "output_type": "execute_result"
    }
   ],
   "source": [
    "model.fit(x_train , y_train , epochs = 5 , batch_size= 32 , validation_split= .2)"
   ]
  },
  {
   "cell_type": "code",
   "execution_count": 23,
   "id": "d2f365ce",
   "metadata": {},
   "outputs": [],
   "source": [
    "from sklearn.metrics import confusion_matrix"
   ]
  },
  {
   "cell_type": "code",
   "execution_count": 24,
   "id": "0a7fbc5d",
   "metadata": {},
   "outputs": [
    {
     "data": {
      "text/plain": [
       "array([[5.1614203e-02, 9.4838578e-01],\n",
       "       [1.2749124e-02, 9.8725080e-01],\n",
       "       [9.0068024e-01, 9.9319726e-02],\n",
       "       ...,\n",
       "       [2.4664851e-02, 9.7533518e-01],\n",
       "       [9.9921942e-01, 7.8058953e-04],\n",
       "       [9.3390765e-03, 9.9066097e-01]], dtype=float32)"
      ]
     },
     "execution_count": 24,
     "metadata": {},
     "output_type": "execute_result"
    }
   ],
   "source": [
    "pred = model.predict(x_test)\n",
    "pred"
   ]
  },
  {
   "cell_type": "code",
   "execution_count": 25,
   "id": "5116be56",
   "metadata": {},
   "outputs": [
    {
     "data": {
      "text/plain": [
       "array([1, 1, 0, ..., 1, 0, 1], dtype=int64)"
      ]
     },
     "execution_count": 25,
     "metadata": {},
     "output_type": "execute_result"
    }
   ],
   "source": [
    "pred_classes = np.argmax(pred , axis = 1)\n",
    "pred_classes"
   ]
  },
  {
   "cell_type": "code",
   "execution_count": 26,
   "id": "d9ff10cc",
   "metadata": {},
   "outputs": [
    {
     "data": {
      "text/plain": [
       "array([1, 1, 0, ..., 1, 0, 1], dtype=int64)"
      ]
     },
     "execution_count": 26,
     "metadata": {},
     "output_type": "execute_result"
    }
   ],
   "source": [
    "y_test_arg = np.argmax(y_test , axis = 1)\n",
    "y_test_arg"
   ]
  },
  {
   "cell_type": "code",
   "execution_count": 27,
   "id": "9cff98d8",
   "metadata": {},
   "outputs": [
    {
     "data": {
      "text/plain": [
       "array([[831, 176],\n",
       "       [152, 841]], dtype=int64)"
      ]
     },
     "execution_count": 27,
     "metadata": {},
     "output_type": "execute_result"
    }
   ],
   "source": [
    "confusion_matrix(y_test_arg ,pred_classes)"
   ]
  },
  {
   "cell_type": "code",
   "execution_count": 28,
   "id": "4bb17c72",
   "metadata": {},
   "outputs": [
    {
     "data": {
      "text/plain": [
       "0.836"
      ]
     },
     "execution_count": 28,
     "metadata": {},
     "output_type": "execute_result"
    }
   ],
   "source": [
    "from sklearn.metrics import accuracy_score\n",
    "accuracy_score(y_test_arg ,pred_classes)"
   ]
  },
  {
   "cell_type": "code",
   "execution_count": null,
   "id": "da41765f",
   "metadata": {},
   "outputs": [],
   "source": []
  },
  {
   "cell_type": "code",
   "execution_count": null,
   "id": "05048ae4",
   "metadata": {},
   "outputs": [],
   "source": []
  }
 ],
 "metadata": {
  "kernelspec": {
   "display_name": "Python 3",
   "language": "python",
   "name": "python3"
  },
  "language_info": {
   "codemirror_mode": {
    "name": "ipython",
    "version": 3
   },
   "file_extension": ".py",
   "mimetype": "text/x-python",
   "name": "python",
   "nbconvert_exporter": "python",
   "pygments_lexer": "ipython3",
   "version": "3.8.8"
  }
 },
 "nbformat": 4,
 "nbformat_minor": 5
}
